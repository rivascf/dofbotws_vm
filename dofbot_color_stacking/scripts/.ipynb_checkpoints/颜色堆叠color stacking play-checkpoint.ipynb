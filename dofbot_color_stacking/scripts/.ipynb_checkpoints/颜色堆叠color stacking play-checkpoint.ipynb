{
 "cells": [
  {
   "cell_type": "markdown",
   "metadata": {},
   "source": [
    "# 颜色堆叠玩法  color stacking play"
   ]
  },
  {
   "cell_type": "markdown",
   "metadata": {},
   "source": [
    "### 导入头文件 Import head file"
   ]
  },
  {
   "cell_type": "code",
   "execution_count": 1,
   "metadata": {},
   "outputs": [],
   "source": [
    "#!/usr/bin/env python\n",
    "# coding: utf-8\n",
    "import cv2 as cv\n",
    "import threading\n",
    "from time import sleep\n",
    "from dofbot_config import *\n",
    "import ipywidgets as widgets\n",
    "from IPython.display import display\n",
    "from stacking_target import stacking_GetTarget"
   ]
  },
  {
   "cell_type": "markdown",
   "metadata": {},
   "source": [
    "### 初始化机械臂位置 Initialize DOFBOT position"
   ]
  },
  {
   "cell_type": "code",
   "execution_count": 2,
   "metadata": {},
   "outputs": [],
   "source": [
    "target      = stacking_GetTarget()\n",
    "calibration = Arm_Calibration()\n",
    "num = 0\n",
    "dp = []\n",
    "xy = [90,135]\n",
    "msg   = {}\n",
    "threshold = 140\n",
    "model = \"General\"\n",
    "color_list = {}\n",
    "color_hsv  = {\"red\"   : ((0, 43, 46), (10, 255, 255)),\n",
    "              \"green\" : ((35, 43, 46), (77, 255, 255)),\n",
    "              \"blue\"  : ((100, 43, 46), (124, 255, 255)),\n",
    "              \"yellow\": ((26, 43, 46), (34, 255, 255))}\n",
    "# XYT参数路径  XYT Parameter path\n",
    "HSV_path=\"/home/yahboom/dofbot_ws/src/dofbot_color_stacking/scripts/HSV_config.txt\"\n",
    "XYT_path=\"/home/yahboom/dofbot_ws/src/dofbot_color_stacking/scripts/XYT_config.txt\"\n",
    "try: read_HSV(HSV_path,color_hsv)\n",
    "except Exception: print(\"No HSV_config file!!!\")\n",
    "try: xy, thresh = read_XYT(XYT_path)\n",
    "except Exception: print(\"No XYT_config file!!!\")"
   ]
  },
  {
   "cell_type": "markdown",
   "metadata": {},
   "source": [
    "### 创建实例,初始化参数 Create the instance and initialize the parameters"
   ]
  },
  {
   "cell_type": "code",
   "execution_count": 3,
   "metadata": {},
   "outputs": [],
   "source": [
    "import Arm_Lib\n",
    "arm = Arm_Lib.Arm_Device()\n",
    "joints_0 = [xy[0], xy[1], 0, 0, 90, 30]\n",
    "arm.Arm_serial_servo_write6_array(joints_0, 1000)"
   ]
  },
  {
   "cell_type": "markdown",
   "metadata": {},
   "source": [
    "### 创建控件 Creating widget"
   ]
  },
  {
   "cell_type": "code",
   "execution_count": 4,
   "metadata": {},
   "outputs": [],
   "source": [
    "button_layout      = widgets.Layout(width='320px', height='60px', align_self='center')\n",
    "output = widgets.Output()\n",
    "# 调整滑杆 Adjust the slider\n",
    "joint1_slider      = widgets.IntSlider(description='joint1 :'   ,    value=xy[0]     , min=70 , max=110, step=1, orientation='horizontal')\n",
    "joint2_slider      = widgets.IntSlider(description='joint2 :'   ,    value=xy[1]     , min=115, max=155, step=1, orientation='horizontal')\n",
    "threshold_slider   = widgets.IntSlider(description='threshold :',    value=threshold , min=0  , max=255, step=1, orientation='horizontal')\n",
    "\n",
    "# 进入标定模式  Enter calibration mode\n",
    "calibration_model  = widgets.Button(description='calibration_model',  button_style='primary', layout=button_layout)\n",
    "calibration_ok     = widgets.Button(description='calibration_ok',     button_style='success', layout=button_layout)\n",
    "calibration_cancel = widgets.Button(description='calibration_cancel', button_style='danger', layout=button_layout)\n",
    "# 选择抓取颜色   Select grab color\n",
    "color_list_one     = widgets.Dropdown(options=['red', 'green', 'blue', 'yellow', 'none'], value='none', disabled=False)\n",
    "color_list_two     = widgets.Dropdown(options=['red', 'green', 'blue', 'yellow', 'none'], value='none', disabled=False)\n",
    "color_list_three   = widgets.Dropdown(options=['red', 'green', 'blue', 'yellow', 'none'], value='none', disabled=False)\n",
    "color_list_four    = widgets.Dropdown(options=['red', 'green', 'blue', 'yellow', 'none'], value='none', disabled=False)\n",
    "# 目标检测抓取  Target detection and capture\n",
    "target_detection   = widgets.Button(description='target_detection', button_style='info', layout=button_layout)\n",
    "reset_color_list   = widgets.Button(description='reset_color_list', button_style='info', layout=button_layout)\n",
    "grap = widgets.Button(description='grap', button_style='success', layout=button_layout)\n",
    "# 退出  exit\n",
    "exit_button = widgets.Button(description='Exit', button_style='danger', layout=button_layout)\n",
    "imgbox = widgets.Image(format='jpg', height=480, width=640, layout=widgets.Layout(align_self='center'))\n",
    "color_down = widgets.HBox([exit_button, reset_color_list], layout=widgets.Layout(align_self='center'));\n",
    "color_img = widgets.VBox([imgbox, color_down], layout=widgets.Layout(align_self='center'));\n",
    "color_identify = widgets.VBox(\n",
    "    [joint1_slider, joint2_slider, threshold_slider, calibration_model, calibration_ok, calibration_cancel,\n",
    "     color_list_one, color_list_two, color_list_three, color_list_four, target_detection, grap],\n",
    "    layout=widgets.Layout(align_self='center'));\n",
    "controls_box = widgets.HBox([color_img, color_identify], layout=widgets.Layout(align_self='center'))"
   ]
  },
  {
   "cell_type": "markdown",
   "metadata": {},
   "source": [
    "### 标定回调 Calibration callback function"
   ]
  },
  {
   "cell_type": "code",
   "execution_count": 5,
   "metadata": {},
   "outputs": [],
   "source": [
    "def calibration_model_Callback(value):\n",
    "    global model\n",
    "    model = 'Calibration'\n",
    "    with output: print(model)\n",
    "def calibration_OK_Callback(value):\n",
    "    global model\n",
    "    model = 'calibration_OK'\n",
    "    with output: print(model)\n",
    "def calibration_cancel_Callback(value):\n",
    "    global model\n",
    "    model = 'calibration_Cancel'\n",
    "    with output: print(model)\n",
    "calibration_model.on_click(calibration_model_Callback)\n",
    "calibration_ok.on_click(calibration_OK_Callback)\n",
    "calibration_cancel.on_click(calibration_cancel_Callback)"
   ]
  },
  {
   "cell_type": "markdown",
   "metadata": {},
   "source": [
    "### 颜色选择序列  Color selection sequence"
   ]
  },
  {
   "cell_type": "code",
   "execution_count": 6,
   "metadata": {},
   "outputs": [],
   "source": [
    "# 选择颜色  Select color\n",
    "def color_list_one_Callback(value):\n",
    "    global model,color_list\n",
    "    model=\"General\"\n",
    "    if not isinstance(value['new'],str):return\n",
    "    if value['new'] == \"none\":\n",
    "        if '1' in color_list:del color_list['1']\n",
    "    elif value['new'] == \"red\":\n",
    "        color_list['1'] = \"red\"\n",
    "    elif value['new']== \"green\":\n",
    "        color_list['1'] = \"green\"\n",
    "    elif value['new'] == \"blue\":\n",
    "        color_list['1'] = \"blue\"\n",
    "    elif value['new'] == \"yellow\":\n",
    "        color_list['1'] = \"yellow\"\n",
    "    with output:\n",
    "        print(\"color_list_three_Callback clicked.\",color_list)\n",
    "def color_list_two_Callback(value):\n",
    "    global model,color_list\n",
    "    model=\"General\"\n",
    "    if not isinstance(value['new'],str):return\n",
    "    if value['new'] == \"none\":\n",
    "        if '2' in color_list:del color_list['2']\n",
    "    elif value['new'] == \"red\":\n",
    "        color_list['2'] = \"red\"\n",
    "    elif value['new'] == \"green\":\n",
    "        color_list['2'] = \"green\"\n",
    "    elif value['new'] == \"blue\":\n",
    "        color_list['2'] = \"blue\"\n",
    "    elif value['new'] == \"yellow\":\n",
    "        color_list['2'] = \"yellow\"\n",
    "    with output:\n",
    "        print(\"color_list_three_Callback clicked.\",color_list)\n",
    "def color_list_three_Callback(value):\n",
    "    global model,color_list\n",
    "    model=\"General\"\n",
    "    if not isinstance(value['new'],str):return\n",
    "    if value['new'] == \"none\":\n",
    "        if '3' in color_list:del color_list['3']\n",
    "    elif value['new'] == \"red\":\n",
    "        color_list['3'] = \"red\"\n",
    "    elif value['new'] == \"green\":\n",
    "        color_list['3'] = \"green\"\n",
    "    elif value['new'] == \"blue\":\n",
    "        color_list['3'] = \"blue\"\n",
    "    elif value['new'] == \"yellow\":\n",
    "        color_list['3'] = \"yellow\"\n",
    "    with output:\n",
    "        print(\"color_list_three_Callback clicked.\",color_list)\n",
    "def color_list_four_Callback(value):\n",
    "    global model,color_list\n",
    "    model=\"General\"\n",
    "    if not isinstance(value['new'],str):return\n",
    "    if value['new'] == \"none\":\n",
    "        if '4' in color_list:del color_list['4']\n",
    "    elif value['new'] == \"red\":\n",
    "        color_list['4'] = \"red\"\n",
    "    elif value['new'] == \"green\":\n",
    "        color_list['4'] = \"green\"\n",
    "    elif value['new'] == \"blue\":\n",
    "        color_list['4'] = \"blue\"\n",
    "    elif value['new'] == \"yellow\":\n",
    "        color_list['4'] = \"yellow\"\n",
    "    with output:\n",
    "        print(\"color_list_four_Callback clicked.\",color_list)\n",
    "color_list_one.observe(color_list_one_Callback)\n",
    "color_list_two.observe(color_list_two_Callback)\n",
    "color_list_three.observe(color_list_three_Callback)\n",
    "color_list_four.observe(color_list_four_Callback)"
   ]
  },
  {
   "cell_type": "markdown",
   "metadata": {},
   "source": [
    "### 模式切换   switching mode"
   ]
  },
  {
   "cell_type": "code",
   "execution_count": 7,
   "metadata": {},
   "outputs": [],
   "source": [
    "def target_detection_Callback(value):\n",
    "    global model\n",
    "    model = 'Detection'\n",
    "    with output: print(model)\n",
    "def reset_color_list_Callback(value):\n",
    "    global model\n",
    "    model = 'Reset_list'\n",
    "    with output: print(model)\n",
    "def grap_Callback(value):\n",
    "    global model\n",
    "    model = 'Grap'\n",
    "    with output: print(model)\n",
    "def exit_button_Callback(value):\n",
    "    global model\n",
    "    model = 'Exit'\n",
    "    with output: print(model)\n",
    "target_detection.on_click(target_detection_Callback)\n",
    "reset_color_list.on_click(reset_color_list_Callback)\n",
    "grap.on_click(grap_Callback)\n",
    "exit_button.on_click(exit_button_Callback)"
   ]
  },
  {
   "cell_type": "markdown",
   "metadata": {},
   "source": [
    "### 主程序 Main process"
   ]
  },
  {
   "cell_type": "code",
   "execution_count": 8,
   "metadata": {},
   "outputs": [],
   "source": [
    "def camera():\n",
    "    global color_hsv,model,dp,msg,color_list\n",
    "    # 打开摄像头 Open camera\n",
    "    capture = cv.VideoCapture(0)\n",
    "    index=1\n",
    "    # Be executed in loop when the camera is opened normally \n",
    "    # 当摄像头正常打开的情况下循环执行\n",
    "    while capture.isOpened():\n",
    "        try:\n",
    "            _, img = capture.read()\n",
    "            img = cv.resize(img, (640, 480))\n",
    "#             cv.circle(img, (320, 240), 5, (255, 0, 0), -1)\n",
    "            xy=[joint1_slider.value,joint2_slider.value]\n",
    "            if model == 'Calibration':\n",
    "                _, img = calibration.calibration_map(img,xy,threshold_slider.value)\n",
    "            if model == 'calibration_OK':\n",
    "                try: write_XYT(XYT_path,xy, threshold_slider.value)\n",
    "                except Exception: print(\"File XYT_config Error !!!\")\n",
    "                dp, img = calibration.calibration_map(img,xy,threshold_slider.value)\n",
    "                model=\"General\"\n",
    "            if len(dp) != 0: img = calibration.Perspective_transform(dp, img)\n",
    "            if model == 'calibration_Cancel':  \n",
    "                dp = []\n",
    "                msg= {}\n",
    "                model=\"General\"\n",
    "            if len(dp)!= 0 and len(color_list)!= 0 and model == 'Detection':\n",
    "                img, msg = target.select_color(img, color_hsv,color_list)\n",
    "                print(\"---\",color_hsv['green'])\n",
    "            if model==\"Reset_list\":\n",
    "                msg={}\n",
    "                color_list = {}\n",
    "                model=\"General\"\n",
    "            if len(msg)!= 0 and model == 'Grap':\n",
    "                threading.Thread(target=target.target_run, args=(msg,xy)).start()\n",
    "                msg={}\n",
    "                model=\"Detection\"\n",
    "            if model == 'Exit':\n",
    "                cv.destroyAllWindows()\n",
    "                capture.release()\n",
    "                break\n",
    "            index+=1\n",
    "            imgbox.value = cv.imencode('.jpg', img)[1].tobytes()\n",
    "        except KeyboardInterrupt:capture.release()"
   ]
  },
  {
   "cell_type": "markdown",
   "metadata": {},
   "source": [
    "### 启动  Start"
   ]
  },
  {
   "cell_type": "code",
   "execution_count": 9,
   "metadata": {},
   "outputs": [
    {
     "data": {
      "application/vnd.jupyter.widget-view+json": {
       "model_id": "1ea384010f0649a4a29108cc855cead2",
       "version_major": 2,
       "version_minor": 0
      },
      "text/plain": [
       "HBox(children=(VBox(children=(Image(value=b'', format='jpg', height='480', layout=\"Layout(align_self='center')…"
      ]
     },
     "metadata": {},
     "output_type": "display_data"
    },
    {
     "data": {
      "application/vnd.jupyter.widget-view+json": {
       "model_id": "1549ccc4e3fe482c8dece452563dfecb",
       "version_major": 2,
       "version_minor": 0
      },
      "text/plain": [
       "Output()"
      ]
     },
     "metadata": {},
     "output_type": "display_data"
    },
    {
     "name": "stderr",
     "output_type": "stream",
     "text": [
      "[ WARN:0] global ../modules/videoio/src/cap_gstreamer.cpp (935) open OpenCV | GStreamer warning: Cannot query video position: status=0, value=-1, duration=-1\n"
     ]
    }
   ],
   "source": [
    "display(controls_box,output)\n",
    "threading.Thread(target=camera, ).start()"
   ]
  },
  {
   "cell_type": "code",
   "execution_count": null,
   "metadata": {},
   "outputs": [],
   "source": []
  }
 ],
 "metadata": {
  "kernelspec": {
   "display_name": "Python 3 (ipykernel)",
   "language": "python",
   "name": "python3"
  },
  "language_info": {
   "codemirror_mode": {
    "name": "ipython",
    "version": 3
   },
   "file_extension": ".py",
   "mimetype": "text/x-python",
   "name": "python",
   "nbconvert_exporter": "python",
   "pygments_lexer": "ipython3",
   "version": "3.8.10"
  }
 },
 "nbformat": 4,
 "nbformat_minor": 4
}
