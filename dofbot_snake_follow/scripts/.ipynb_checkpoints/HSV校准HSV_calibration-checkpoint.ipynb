{
 "cells": [
  {
   "cell_type": "markdown",
   "metadata": {},
   "source": [
    "# HSV校准\n",
    "# HSV calibration"
   ]
  },
  {
   "cell_type": "markdown",
   "metadata": {},
   "source": [
    "### 导入头文件  Import header file"
   ]
  },
  {
   "cell_type": "code",
   "execution_count": 1,
   "metadata": {},
   "outputs": [],
   "source": [
    "#!/usr/bin/env python\n",
    "# coding: utf-8\n",
    "import threading\n",
    "import cv2 as cv\n",
    "from time import sleep\n",
    "from dofbot_config import *\n",
    "import ipywidgets as widgets\n",
    "from IPython.display import display"
   ]
  },
  {
   "cell_type": "markdown",
   "metadata": {},
   "source": [
    "### 创建实例,初始化参数  Create an instance, initialize parameters"
   ]
  },
  {
   "cell_type": "code",
   "execution_count": 2,
   "metadata": {},
   "outputs": [],
   "source": [
    "# 创建更新HSV实例  Create and update HSV instance\n",
    "update_hsv = update_hsv()\n",
    "# 初始化num参数  Initialize the num parameter\n",
    "num=0\n",
    "# 初始化模式 Initialization mode\n",
    "model = \"General\"\n",
    "# 初始化HSV名称 Initialize HSV name\n",
    "HSV_name=None\n",
    "# 初始化HSV值 Initialize HSV value\n",
    "color_hsv  = {\"red\"   : ((0, 43, 46), (10, 255, 255)),\n",
    "              \"green\" : ((35, 43, 46), (77, 255, 255)),\n",
    "              \"blue\"  : ((100, 43, 46), (124, 255, 255)),\n",
    "              \"yellow\": ((26, 43, 46), (34, 255, 255))}\n",
    "# 设置随机颜色 Set random colors\n",
    "color = [[random.randint(0, 255) for _ in range(3)] for _ in range(255)]\n",
    "# HSV参数路径 HSV parameter path\n",
    "HSV_path=\"/home/yahboom/dofbot_ws/src/dofbot_snake_follow/scripts/HSV_config.txt\"\n",
    "# 读取HSV配置文件,更新HSV值 Read HSV configuration file, update HSV value\n",
    "try: read_HSV(HSV_path,color_hsv)\n",
    "except Exception: print(\"Read HSV_config Error!!!\")"
   ]
  },
  {
   "cell_type": "markdown",
   "metadata": {},
   "source": [
    "### 初始化机械臂位置  Initialize the DFOBOT position"
   ]
  },
  {
   "cell_type": "code",
   "execution_count": 3,
   "metadata": {},
   "outputs": [],
   "source": [
    "import Arm_Lib\n",
    "Arm = Arm_Lib.Arm_Device()\n",
    "joints_0 = [90, 135, 0,45, 0, 180]\n",
    "Arm.Arm_serial_servo_write6_array(joints_0, 1000)"
   ]
  },
  {
   "cell_type": "markdown",
   "metadata": {},
   "source": [
    "### 创建控件  Create control"
   ]
  },
  {
   "cell_type": "code",
   "execution_count": 3,
   "metadata": {},
   "outputs": [],
   "source": [
    "# 创建布局 Create layout\n",
    "button_layout      = widgets.Layout(width='260px', height='40px', align_self='center')\n",
    "# 输出部件 Output part\n",
    "output = widgets.Output()\n",
    "# 进入颜色更新模式 Enter color update mode\n",
    "HSV_update_red     = widgets.Button(description='HSV_update_red',    button_style='success', layout=button_layout)\n",
    "HSV_update_green   = widgets.Button(description='HSV_update_green',  button_style='success', layout=button_layout)\n",
    "HSV_update_blue    = widgets.Button(description='HSV_update_blue',   button_style='success', layout=button_layout)\n",
    "HSV_update_yellow  = widgets.Button(description='HSV_update_yellow', button_style='success', layout=button_layout)\n",
    "HSV_write_file     = widgets.Button(description='HSV_write_file',    button_style='primary', layout=button_layout)\n",
    "Color_Binary       = widgets.Button(description='Color/Binary',      button_style='info',    layout=button_layout)\n",
    "# 调整滑杆 Adjust the slider\n",
    "H_min_slider       = widgets.IntSlider(description='H_min :', value=0, min=0, max=255, step=1, orientation='horizontal')\n",
    "S_min_slider       = widgets.IntSlider(description='S_min :', value=43, min=0, max=255, step=1, orientation='horizontal')\n",
    "V_min_slider       = widgets.IntSlider(description='V_min :', value=46, min=0, max=255, step=1, orientation='horizontal')\n",
    "H_max_slider       = widgets.IntSlider(description='H_max :', value=10, min=0, max=255, step=1, orientation='horizontal')\n",
    "S_max_slider       = widgets.IntSlider(description='S_max :', value=255, min=0, max=255, step=1, orientation='horizontal')\n",
    "V_max_slider       = widgets.IntSlider(description='V_max :', value=255, min=0, max=255, step=1, orientation='horizontal')\n",
    "# 退出按钮 Exit button\n",
    "exit_button = widgets.Button(description='Exit', button_style='danger', layout=button_layout)\n",
    "# 图像控件 Image control\n",
    "imgbox = widgets.Image(format='jpg', height=480, width=640, layout=widgets.Layout(align_self='center'))\n",
    "# 调试按钮布局 Debug button layout\n",
    "HSV_slider = widgets.VBox(\n",
    "    [H_min_slider, S_min_slider, V_min_slider, H_max_slider, S_max_slider, V_max_slider, HSV_update_red,\n",
    "     HSV_update_green, HSV_update_blue, HSV_update_yellow, Color_Binary,HSV_write_file, exit_button],\n",
    "    layout=widgets.Layout(align_self='center'))\n",
    "# 整体布局 overall layout\n",
    "controls_box = widgets.HBox([imgbox,HSV_slider], layout=widgets.Layout(align_self='center'))"
   ]
  },
  {
   "cell_type": "markdown",
   "metadata": {},
   "source": [
    "### 颜色更新回调 Color update callback"
   ]
  },
  {
   "cell_type": "code",
   "execution_count": 4,
   "metadata": {},
   "outputs": [],
   "source": [
    "def update_red_Callback(value):\n",
    "    # 点击红色按钮,回调函数 Click the red button, call back function\n",
    "    global HSV_name\n",
    "    HSV_name = \"red\"\n",
    "    H_min_slider.value=color_hsv[HSV_name][0][0]\n",
    "    S_min_slider.value=color_hsv[HSV_name][0][1]\n",
    "    V_min_slider.value=color_hsv[HSV_name][0][2]\n",
    "    H_max_slider.value=color_hsv[HSV_name][1][0]\n",
    "    S_max_slider.value=color_hsv[HSV_name][1][1]\n",
    "    V_max_slider.value=color_hsv[HSV_name][1][2]\n",
    "def update_green_Callback(value):\n",
    "    # 点击绿色按钮,回调函数 Click the green button to call back function\n",
    "    global HSV_name\n",
    "    HSV_name = \"green\"\n",
    "    H_min_slider.value=color_hsv[HSV_name][0][0]\n",
    "    S_min_slider.value=color_hsv[HSV_name][0][1]\n",
    "    V_min_slider.value=color_hsv[HSV_name][0][2]\n",
    "    H_max_slider.value=color_hsv[HSV_name][1][0]\n",
    "    S_max_slider.value=color_hsv[HSV_name][1][1]\n",
    "    V_max_slider.value=color_hsv[HSV_name][1][2]\n",
    "def update_blue_Callback(value):\n",
    "    # 点击蓝色按钮,回调函数 Click the blue button to call back function\n",
    "    global HSV_name\n",
    "    HSV_name = \"blue\"\n",
    "    H_min_slider.value=color_hsv[HSV_name][0][0]\n",
    "    S_min_slider.value=color_hsv[HSV_name][0][1]\n",
    "    V_min_slider.value=color_hsv[HSV_name][0][2]\n",
    "    H_max_slider.value=color_hsv[HSV_name][1][0]\n",
    "    S_max_slider.value=color_hsv[HSV_name][1][1]\n",
    "    V_max_slider.value=color_hsv[HSV_name][1][2]\n",
    "def update_yellow_Callback(value):\n",
    "    # 点击黄色按钮,回调函数 Click the yellow button to call back function\n",
    "    global HSV_name\n",
    "    HSV_name = \"yellow\"\n",
    "    H_min_slider.value=color_hsv[HSV_name][0][0]\n",
    "    S_min_slider.value=color_hsv[HSV_name][0][1]\n",
    "    V_min_slider.value=color_hsv[HSV_name][0][2]\n",
    "    H_max_slider.value=color_hsv[HSV_name][1][0]\n",
    "    S_max_slider.value=color_hsv[HSV_name][1][1]\n",
    "    V_max_slider.value=color_hsv[HSV_name][1][2]\n",
    "# 点击按钮 Click the button\n",
    "HSV_update_red.on_click(update_red_Callback)\n",
    "HSV_update_green.on_click(update_green_Callback)\n",
    "HSV_update_blue.on_click(update_blue_Callback)\n",
    "HSV_update_yellow.on_click(update_yellow_Callback)"
   ]
  },
  {
   "cell_type": "markdown",
   "metadata": {},
   "source": [
    "### 模式切换控件 Mode switch control"
   ]
  },
  {
   "cell_type": "code",
   "execution_count": 5,
   "metadata": {},
   "outputs": [],
   "source": [
    "# 模式设置 Mode setting\n",
    "def write_file_Callback(value):\n",
    "    global model\n",
    "    model = 'Write_file'\n",
    "def Color_Binary_Callback(value):\n",
    "    global model,num\n",
    "    if num%2==0: model=\"Binary\"\n",
    "    if num%2==1: model=\"General\"\n",
    "    num+=1\n",
    "def exit_button_Callback(value):\n",
    "    global model\n",
    "    model = 'Exit'\n",
    "    with output: print(model)\n",
    "# 点击按钮 Click the button\n",
    "HSV_write_file.on_click(write_file_Callback)\n",
    "Color_Binary.on_click(Color_Binary_Callback)\n",
    "exit_button.on_click(exit_button_Callback)"
   ]
  },
  {
   "cell_type": "markdown",
   "metadata": {},
   "source": [
    "### 摄像头函数 Camera function"
   ]
  },
  {
   "cell_type": "code",
   "execution_count": 6,
   "metadata": {},
   "outputs": [],
   "source": [
    "def camera():\n",
    "    global HSV_name,model,color_hsv,num\n",
    "    # 打开摄像头 Open camera\n",
    "    capture = cv.VideoCapture(0)\n",
    "    # 当摄像头正常打开的情况下循环执行 Loop when the camera is normally opened\n",
    "    while capture.isOpened():\n",
    "        try:\n",
    "            # 读取相机的每一帧 Read every frame of the camera\n",
    "            _, img = capture.read()\n",
    "            # 统一图像大小 Uniform image size\n",
    "            img = cv.resize(img, (640, 480))\n",
    "            if HSV_name!=None:\n",
    "                # 添加文字 Add text\n",
    "                cv.putText(img, HSV_name, (int(img.shape[0] / 2)+40, 50), cv.FONT_HERSHEY_SIMPLEX, 2, color[random.randint(0, 254)], 2)\n",
    "                # 实时修改颜色的HSV值 Modify the HSV value of the color in real time\n",
    "                color_hsv[HSV_name] = ((H_min_slider.value, S_min_slider.value, V_min_slider.value), (H_max_slider.value, S_max_slider.value, V_max_slider.value))\n",
    "                # 轮廓检测 Contour detection\n",
    "                img, binary = update_hsv.get_contours(img, HSV_name, color_hsv[HSV_name],color_hsv)\n",
    "                if model == \"Binary\":\n",
    "                    # 二值图显示 Binary graph display\n",
    "                    _, img = update_hsv.get_contours(img, HSV_name, color_hsv[HSV_name],color_hsv)\n",
    "                if model == 'Write_file':\n",
    "                    # 写入文件 Write file\n",
    "                    try: write_HSV(HSV_path,color_hsv)\n",
    "                    except Exception: print(\"File Path Error!!!\")\n",
    "                    # 所有颜色取反 Invert all colors\n",
    "                    cv.bitwise_not(img, img)\n",
    "                    num=0\n",
    "                    model=\"General\"\n",
    "            if model == 'Exit':\n",
    "                # 退出程序 Exit\n",
    "                cv.destroyAllWindows()\n",
    "                capture.release()\n",
    "                break\n",
    "            # 图像格式转换 Image format conversion\n",
    "            imgbox.value = cv.imencode('.jpg', img)[1].tobytes()\n",
    "        except KeyboardInterrupt:\n",
    "            capture.release()"
   ]
  },
  {
   "cell_type": "markdown",
   "metadata": {},
   "source": [
    "### 显示 Display"
   ]
  },
  {
   "cell_type": "code",
   "execution_count": 7,
   "metadata": {},
   "outputs": [
    {
     "data": {
      "application/vnd.jupyter.widget-view+json": {
       "model_id": "7a0ca17654064f259b24d37ea53f5868",
       "version_major": 2,
       "version_minor": 0
      },
      "text/plain": [
       "HBox(children=(Image(value=b'', format='jpg', height='480', layout=\"Layout(align_self='center')\", width='640')…"
      ]
     },
     "metadata": {},
     "output_type": "display_data"
    },
    {
     "data": {
      "application/vnd.jupyter.widget-view+json": {
       "model_id": "5c27eec740674ffa9255ade36c033f4e",
       "version_major": 2,
       "version_minor": 0
      },
      "text/plain": [
       "Output()"
      ]
     },
     "metadata": {},
     "output_type": "display_data"
    }
   ],
   "source": [
    "# 显示布局 Display layout\n",
    "display(controls_box,output)\n",
    "# 开启图像线程 Start thread\n",
    "threading.Thread(target=camera, ).start()"
   ]
  },
  {
   "cell_type": "code",
   "execution_count": null,
   "metadata": {},
   "outputs": [],
   "source": []
  }
 ],
 "metadata": {
  "kernelspec": {
   "display_name": "Python 3 (ipykernel)",
   "language": "python",
   "name": "python3"
  },
  "language_info": {
   "codemirror_mode": {
    "name": "ipython",
    "version": 3
   },
   "file_extension": ".py",
   "mimetype": "text/x-python",
   "name": "python",
   "nbconvert_exporter": "python",
   "pygments_lexer": "ipython3",
   "version": "3.8.10"
  }
 },
 "nbformat": 4,
 "nbformat_minor": 4
}
