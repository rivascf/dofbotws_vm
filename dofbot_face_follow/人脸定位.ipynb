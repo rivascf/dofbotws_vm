{
 "cells": [
  {
   "cell_type": "code",
   "execution_count": 1,
   "id": "6b9ea648-1825-4d0f-b800-4eddcee415db",
   "metadata": {},
   "outputs": [],
   "source": [
    "import cv2 as cv\n",
    "import threading\n",
    "from time import sleep\n",
    "import ipywidgets as widgets\n",
    "from IPython.display import display\n",
    "from face_pose import face_follow"
   ]
  },
  {
   "cell_type": "code",
   "execution_count": 2,
   "id": "638ae2c9-df85-4a60-8673-261a5de5f900",
   "metadata": {},
   "outputs": [],
   "source": [
    "follow = face_follow()\n",
    "model = 'General'"
   ]
  },
  {
   "cell_type": "code",
   "execution_count": 3,
   "id": "f773417f-21f8-4ff8-9c58-d48a65379221",
   "metadata": {},
   "outputs": [],
   "source": [
    "button_layout = widgets.Layout(width='250px', height='50px', align_self='center')\n",
    "output = widgets.Output()\n",
    "# 退出控件 exit button\n",
    "exit_button = widgets.Button(description='Exit', button_style='danger', layout=button_layout)\n",
    "# 图像控件 Image widget\n",
    "imgbox = widgets.Image(format='jpg', height=480, width=640, layout=widgets.Layout(align_self='center'))\n",
    "# 空间布局 spatial distribution\n",
    "controls_box = widgets.VBox([imgbox, exit_button], layout=widgets.Layout(align_self='center'))\n",
    "# ['auto', 'flex-start', 'flex-end', 'center', 'baseline', 'stretch', 'inherit', 'initial', 'un"
   ]
  },
  {
   "cell_type": "code",
   "execution_count": 4,
   "id": "5588de43-1fc1-4fae-9219-511380647935",
   "metadata": {},
   "outputs": [],
   "source": [
    "def exit_button_Callback(value):\n",
    "    global model\n",
    "    model = 'Exit'\n",
    "#     with output: print(model)\n",
    "exit_button.on_click(exit_button_Callback)"
   ]
  },
  {
   "cell_type": "code",
   "execution_count": 5,
   "id": "c3730f43-dc8a-4f79-b76b-b0474a08d57d",
   "metadata": {},
   "outputs": [],
   "source": [
    "def camera():\n",
    "    global model\n",
    "    # 打开摄像头 Open camera\n",
    "    capture = cv.VideoCapture(0)\n",
    "    while capture.isOpened():\n",
    "        try:\n",
    "            _, img = capture.read()\n",
    "            img = cv.resize(img, (640, 480))\n",
    "            img = follow.follow_function(img)\n",
    "            if model == 'Exit':\n",
    "                cv.destroyAllWindows()\n",
    "                capture.release()\n",
    "                break\n",
    "            imgbox.value = cv.imencode('.jpg', img)[1].tobytes()\n",
    "        except KeyboardInterrupt:capture.release()"
   ]
  },
  {
   "cell_type": "code",
   "execution_count": 6,
   "id": "ac9840c7-3fb0-4e2b-9a63-6f9814f4a391",
   "metadata": {},
   "outputs": [
    {
     "data": {
      "application/vnd.jupyter.widget-view+json": {
       "model_id": "d2a315ab82e444aabba69d474a081d8b",
       "version_major": 2,
       "version_minor": 0
      },
      "text/plain": [
       "VBox(children=(Image(value=b'', format='jpg', height='480', layout=\"Layout(align_self='center')\", width='640')…"
      ]
     },
     "metadata": {},
     "output_type": "display_data"
    },
    {
     "data": {
      "application/vnd.jupyter.widget-view+json": {
       "model_id": "552731649e3d498db675a15ec99ddaaa",
       "version_major": 2,
       "version_minor": 0
      },
      "text/plain": [
       "Output()"
      ]
     },
     "metadata": {},
     "output_type": "display_data"
    },
    {
     "name": "stdout",
     "output_type": "stream",
     "text": [
      "x=  80.0\n",
      "y=  229.0\n",
      "x=  83.0\n",
      "y=  228.0\n",
      "x=  93.0\n",
      "y=  226.0\n",
      "x=  100.0\n",
      "y=  227.0\n",
      "x=  107.0\n",
      "y=  226.0\n",
      "x=  106.0\n",
      "y=  225.0\n",
      "x=  107.0\n",
      "y=  222.0\n",
      "x=  106.0\n",
      "y=  223.0\n",
      "x=  110.0\n",
      "y=  222.0\n",
      "x=  110.5\n",
      "y=  218.5\n",
      "x=  109.5\n",
      "y=  220.5\n",
      "x=  108.0\n",
      "y=  224.0\n",
      "x=  106.5\n",
      "y=  224.5\n",
      "x=  106.0\n",
      "y=  224.0\n",
      "x=  105.0\n",
      "y=  224.0\n",
      "x=  105.5\n",
      "y=  224.5\n",
      "x=  104.5\n",
      "y=  225.5\n",
      "x=  102.5\n",
      "y=  224.5\n",
      "x=  100.5\n",
      "y=  226.5\n",
      "x=  100.5\n",
      "y=  226.5\n",
      "x=  101.0\n",
      "y=  228.0\n",
      "x=  99.0\n",
      "y=  226.0\n",
      "x=  98.0\n",
      "y=  227.0\n",
      "x=  98.0\n",
      "y=  227.0\n",
      "x=  95.5\n",
      "y=  227.5\n",
      "x=  95.5\n",
      "y=  227.5\n",
      "x=  96.0\n",
      "y=  227.0\n",
      "x=  96.0\n",
      "y=  229.0\n",
      "x=  96.0\n",
      "y=  230.0\n",
      "x=  100.5\n",
      "y=  229.5\n",
      "x=  102.0\n",
      "y=  230.0\n",
      "x=  103.5\n",
      "y=  229.5\n",
      "x=  103.5\n",
      "y=  229.5\n",
      "x=  106.0\n",
      "y=  230.0\n",
      "x=  106.0\n",
      "y=  229.0\n",
      "x=  107.5\n",
      "y=  229.5\n",
      "x=  108.5\n",
      "y=  229.5\n",
      "x=  108.5\n",
      "y=  228.5\n",
      "x=  112.0\n",
      "y=  227.0\n",
      "x=  110.5\n",
      "y=  222.5\n",
      "x=  112.0\n",
      "y=  221.0\n",
      "x=  111.0\n",
      "y=  216.0\n",
      "x=  109.5\n",
      "y=  215.5\n",
      "x=  109.0\n",
      "y=  219.0\n",
      "x=  109.5\n",
      "y=  219.5\n",
      "x=  109.5\n",
      "y=  221.5\n",
      "x=  107.5\n",
      "y=  226.5\n",
      "x=  109.0\n",
      "y=  227.0\n",
      "x=  111.5\n",
      "y=  226.5\n",
      "x=  113.0\n",
      "y=  226.0\n",
      "x=  113.5\n",
      "y=  227.5\n",
      "x=  111.0\n",
      "y=  227.0\n",
      "x=  111.0\n",
      "y=  226.0\n",
      "x=  110.0\n",
      "y=  226.0\n",
      "x=  111.0\n",
      "y=  227.0\n",
      "x=  111.5\n",
      "y=  227.5\n",
      "x=  111.0\n",
      "y=  227.0\n",
      "x=  109.5\n",
      "y=  226.5\n",
      "x=  111.5\n",
      "y=  229.5\n",
      "x=  108.0\n",
      "y=  230.0\n"
     ]
    }
   ],
   "source": [
    "display(controls_box,output)\n",
    "threading.Thread(target=camera, ).start()"
   ]
  },
  {
   "cell_type": "code",
   "execution_count": null,
   "id": "61650bbc-780d-4c10-be2a-4e0d82f9a353",
   "metadata": {},
   "outputs": [],
   "source": []
  },
  {
   "cell_type": "code",
   "execution_count": null,
   "id": "948e8c07-eb8e-426e-8cc9-9b6a9e335c13",
   "metadata": {},
   "outputs": [],
   "source": []
  }
 ],
 "metadata": {
  "kernelspec": {
   "display_name": "Python 3 (ipykernel)",
   "language": "python",
   "name": "python3"
  },
  "language_info": {
   "codemirror_mode": {
    "name": "ipython",
    "version": 3
   },
   "file_extension": ".py",
   "mimetype": "text/x-python",
   "name": "python",
   "nbconvert_exporter": "python",
   "pygments_lexer": "ipython3",
   "version": "3.8.10"
  }
 },
 "nbformat": 4,
 "nbformat_minor": 5
}
