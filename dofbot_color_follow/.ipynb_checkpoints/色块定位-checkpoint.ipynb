{
 "cells": [
  {
   "cell_type": "code",
   "execution_count": 13,
   "id": "60465997-37f0-4411-a4f6-874a40a6b781",
   "metadata": {},
   "outputs": [],
   "source": [
    "import cv2 as cv\n",
    "import threading\n",
    "import random\n",
    "from time import sleep\n",
    "import ipywidgets as widgets\n",
    "from IPython.display import display\n",
    "from positioning import color_follow"
   ]
  },
  {
   "cell_type": "code",
   "execution_count": 14,
   "id": "6e566932-6a72-4533-9342-0a8b3d1e00ed",
   "metadata": {},
   "outputs": [
    {
     "name": "stdout",
     "output_type": "stream",
     "text": [
      "Read HSV_config Error !!!\n"
     ]
    }
   ],
   "source": [
    "follow = color_follow()\n",
    "model = 'General'\n",
    "HSV_learning = ()\n",
    "color_hsv = {\"red\": ((0, 25, 90), (10, 255, 255)),\n",
    "             \"green\": ((53, 36, 40), (80, 255, 255)),\n",
    "             \"blue\": ((110, 80, 90), (120, 255, 255)),\n",
    "             \"yellow\": ((25, 20, 55), (50, 255, 255))}\n",
    "color = [[random.randint(0, 255) for _ in range(3)] for _ in range(255)]\n",
    "HSV_path=\"/home/yahboom/dofbot_ws/src/dofbot_color_follow/HSV_config.txt\"\n",
    "try: read_HSV(HSV_path,color_hsv)\n",
    "except Exception: print(\"Read HSV_config Error !!!\")"
   ]
  },
  {
   "cell_type": "code",
   "execution_count": 15,
   "id": "5176c77b-34ee-4725-b982-b8efe3975028",
   "metadata": {},
   "outputs": [],
   "source": [
    "button_layout = widgets.Layout(width='200px', height='100px', align_self='center')\n",
    "# 输出控件 Output widget\n",
    "output = widgets.Output()\n",
    "# 颜色追踪 Color tracking\n",
    "color_follow = widgets.Button(description='color_follow', button_style='success', layout=button_layout)\n",
    "# 选择颜色 Select color\n",
    "choose_color = widgets.ToggleButtons(options=['red', 'green', 'blue', 'yellow'], button_style='success',\n",
    "             tooltips=['Description of slow', 'Description of regular', 'Description of fast'])\n",
    "# 取消追踪 Cancel tracking\n",
    "follow_cancel = widgets.Button(description='follow_cancel', button_style='danger', layout=button_layout)\n",
    "\n",
    "# 退出 exit\n",
    "exit_button = widgets.Button(description='Exit', button_style='danger', layout=button_layout)\n",
    "# 图像控件 Image widget\n",
    "imgbox = widgets.Image(format='jpg', height=480, width=640, layout=widgets.Layout(align_self='auto'))\n",
    "# 垂直布局 Vertical layout\n",
    "img_box = widgets.VBox([imgbox, choose_color], layout=widgets.Layout(align_self='auto'))\n",
    "# 垂直布局 Vertical layout\n",
    "Slider_box = widgets.VBox([color_follow,follow_cancel,exit_button],\n",
    "                          layout=widgets.Layout(align_self='auto'))\n",
    "# 水平布局 Horizontal layout\n",
    "controls_box = widgets.HBox([img_box, Slider_box], layout=widgets.Layout(align_self='auto'))\n",
    "# ['auto', 'flex-start', 'flex-end', 'center', 'baseline', 'stretch', 'inherit', 'initial', 'unset']"
   ]
  },
  {
   "cell_type": "code",
   "execution_count": 16,
   "id": "5003d42b-4f7f-406d-925c-e2a8d79f1536",
   "metadata": {},
   "outputs": [],
   "source": [
    "def color_follow_Callback(value):\n",
    "    global model\n",
    "    model = 'color_follow'\n",
    "\n",
    "def follow_cancel_Callback(value):\n",
    "    global model\n",
    "    model = 'General'\n",
    "def exit_button_Callback(value):\n",
    "    global model\n",
    "    model = 'Exit'\n",
    "color_follow.on_click(color_follow_Callback)\n",
    "\n",
    "follow_cancel.on_click(follow_cancel_Callback)\n",
    "exit_button.on_click(exit_button_Callback)"
   ]
  },
  {
   "cell_type": "code",
   "execution_count": 17,
   "id": "779271ff-5ab1-4142-9227-7b9d8703b4c6",
   "metadata": {},
   "outputs": [],
   "source": [
    "def camera():\n",
    "    \n",
    "    global HSV_learning,model\n",
    "    # 打开摄像头 Open camera\n",
    "    capture = cv.VideoCapture(0)\n",
    "    capture.set(3, 640)\n",
    "    capture.set(4, 480)\n",
    "    capture.set(5, 30)  \n",
    "    # Be executed in loop when the camera is opened normally \n",
    "    # 当摄像头正常打开的情况下循环执行\n",
    "    while capture.isOpened():\n",
    "        try:\n",
    "            _, img = capture.read()\n",
    "            img = cv.resize(img, (640, 480))\n",
    "#             cv.line(img, (320, 0), (320, 480), color=(0, 255, 0), thickness=1)\n",
    "#             cv.line(img, (0, 240), (640, 240), color=(0, 255, 0), thickness=1)\n",
    "            if model == 'color_follow':\n",
    "                img = follow.follow_function(img, color_hsv[choose_color.value])\n",
    "                cv.putText(img, choose_color.value, (int(img.shape[0] / 2), 50), cv.FONT_HERSHEY_SIMPLEX, 2, color[random.randint(0, 254)], 2)\n",
    "           \n",
    "            if model == 'learning_color':\n",
    "                img,HSV_learning = follow.get_hsv(img)\n",
    "                \n",
    "            if model == 'Exit':\n",
    "                cv.destroyAllWindows()\n",
    "                capture.release()\n",
    "                break\n",
    "            imgbox.value = cv.imencode('.jpg', img)[1].tobytes()\n",
    "        except KeyboardInterrupt:capture.release()"
   ]
  },
  {
   "cell_type": "code",
   "execution_count": 18,
   "id": "b192288b-1c5e-44ac-99e7-93da32a1cd87",
   "metadata": {},
   "outputs": [
    {
     "data": {
      "application/vnd.jupyter.widget-view+json": {
       "model_id": "7b707d75d4ce4c75b4fca2a105247456",
       "version_major": 2,
       "version_minor": 0
      },
      "text/plain": [
       "HBox(children=(VBox(children=(Image(value=b'', format='jpg', height='480', layout=\"Layout(align_self='auto')\",…"
      ]
     },
     "metadata": {},
     "output_type": "display_data"
    },
    {
     "data": {
      "application/vnd.jupyter.widget-view+json": {
       "model_id": "ccad289920b84b16816a3b873ce400ea",
       "version_major": 2,
       "version_minor": 0
      },
      "text/plain": [
       "Output()"
      ]
     },
     "metadata": {},
     "output_type": "display_data"
    }
   ],
   "source": [
    "display(controls_box,output)\n",
    "threading.Thread(target=camera, ).start()"
   ]
  },
  {
   "cell_type": "code",
   "execution_count": null,
   "id": "d6834dcf-a5e5-42ae-bb5c-f9eb1e846058",
   "metadata": {},
   "outputs": [],
   "source": []
  },
  {
   "cell_type": "code",
   "execution_count": null,
   "id": "6927b1b4-48cc-4d17-8440-fa76c232bfb5",
   "metadata": {},
   "outputs": [],
   "source": []
  }
 ],
 "metadata": {
  "kernelspec": {
   "display_name": "Python 3 (ipykernel)",
   "language": "python",
   "name": "python3"
  },
  "language_info": {
   "codemirror_mode": {
    "name": "ipython",
    "version": 3
   },
   "file_extension": ".py",
   "mimetype": "text/x-python",
   "name": "python",
   "nbconvert_exporter": "python",
   "pygments_lexer": "ipython3",
   "version": "3.8.10"
  }
 },
 "nbformat": 4,
 "nbformat_minor": 5
}
