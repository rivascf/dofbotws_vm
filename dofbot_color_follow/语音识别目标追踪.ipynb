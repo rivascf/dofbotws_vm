{
 "cells": [
  {
   "cell_type": "markdown",
   "metadata": {},
   "source": [
    "# 语音识别目标追踪"
   ]
  },
  {
   "cell_type": "markdown",
   "metadata": {},
   "source": [
    "### 导入头文件"
   ]
  },
  {
   "cell_type": "code",
   "execution_count": 1,
   "metadata": {},
   "outputs": [],
   "source": [
    "import cv2 as cv\n",
    "import threading\n",
    "import random\n",
    "from time import sleep\n",
    "import ipywidgets as widgets\n",
    "from IPython.display import display\n",
    "from color_follow import color_follow\n",
    "from face_follow import face_follow"
   ]
  },
  {
   "cell_type": "markdown",
   "metadata": {},
   "source": [
    "### 初始化机械臂位置"
   ]
  },
  {
   "cell_type": "code",
   "execution_count": 2,
   "metadata": {},
   "outputs": [],
   "source": [
    "import Arm_Lib\n",
    "Arm = Arm_Lib.Arm_Device()\n",
    "joints_0 = [90, 135, 20, 25, 90, 30]\n",
    "Arm.Arm_serial_servo_write6_array(joints_0, 1000)"
   ]
  },
  {
   "cell_type": "markdown",
   "metadata": {},
   "source": [
    "### 创建实例,初始化参数"
   ]
  },
  {
   "cell_type": "code",
   "execution_count": 3,
   "metadata": {},
   "outputs": [
    {
     "name": "stdout",
     "output_type": "stream",
     "text": [
      "Read HSV_config Error !!!\n"
     ]
    }
   ],
   "source": [
    "follow = color_follow()\n",
    "follow2 = face_follow()\n",
    "# 初始化模式\n",
    "model = 'General'\n",
    "# 初始化HSV_learning值\n",
    "HSV_learning = ()\n",
    "# 初始化HSV值\n",
    "color_hsv = {\"red\": ((170, 124, 134), (229, 242, 255)),\n",
    "             \"green\": ((54, 113, 64), (75, 255, 255)),\n",
    "             \"blue\": ((102, 150, 124), (124, 253, 255)),\n",
    "             \"yellow\": ((22, 125, 130), (47, 255, 255))}\n",
    "# 设置随机颜色\n",
    "color = [[random.randint(0, 255) for _ in range(3)] for _ in range(255)]\n",
    "# HSV参数路径\n",
    "HSV_path=\"/home/yahboom/dofbot_ws/src/dofbot_color_follow/HSV_config.txt\"\n",
    "try: read_HSV(HSV_path,color_hsv)\n",
    "except Exception: print(\"Read HSV_config Error !!!\")"
   ]
  },
  {
   "cell_type": "markdown",
   "metadata": {},
   "source": [
    "### 创建控件"
   ]
  },
  {
   "cell_type": "code",
   "execution_count": 4,
   "metadata": {},
   "outputs": [],
   "source": [
    "button_layout = widgets.Layout(width='200px', height='100px', align_self='center')\n",
    "# 输出控件\n",
    "output = widgets.Output()\n",
    "# 颜色追踪\n",
    "color_follow = widgets.Button(description='color_follow', button_style='success', layout=button_layout)\n",
    "# 选择颜色\n",
    "choose_color = widgets.ToggleButtons(options=['red', 'green', 'blue', 'yellow'], button_style='success',\n",
    "             tooltips=['Description of slow', 'Description of regular', 'Description of fast'])\n",
    "# 取消追踪\n",
    "follow_cancel = widgets.Button(description='follow_cancel', button_style='danger', layout=button_layout)\n",
    "# 学习颜色\n",
    "learning_color = widgets.Button(description='learning_color', button_style='primary', layout=button_layout)\n",
    "# 学习颜色追踪\n",
    "learning_follow = widgets.Button(description='learning_follow', button_style='success', layout=button_layout)\n",
    "# 退出\n",
    "exit_button = widgets.Button(description='Exit', button_style='danger', layout=button_layout)\n",
    "# 图像控件\n",
    "imgbox = widgets.Image(format='jpg', height=480, width=640, layout=widgets.Layout(align_self='auto'))\n",
    "# 垂直布局\n",
    "img_box = widgets.VBox([imgbox, choose_color], layout=widgets.Layout(align_self='auto'))\n",
    "# 垂直布局\n",
    "Slider_box = widgets.VBox([color_follow, learning_color, learning_follow,follow_cancel,exit_button],\n",
    "                          layout=widgets.Layout(align_self='auto'))\n",
    "# 水平布局\n",
    "controls_box = widgets.HBox([img_box, Slider_box], layout=widgets.Layout(align_self='auto'))\n",
    "# ['auto', 'flex-start', 'flex-end', 'center', 'baseline', 'stretch', 'inherit', 'initial', 'unset']"
   ]
  },
  {
   "cell_type": "markdown",
   "metadata": {},
   "source": [
    "### 模式切换"
   ]
  },
  {
   "cell_type": "code",
   "execution_count": 5,
   "metadata": {},
   "outputs": [],
   "source": [
    "def color_follow_Callback(value):\n",
    "    global model\n",
    "    model = 'color_follow'\n",
    "def learning_color_Callback(value):\n",
    "    global model\n",
    "    model = 'learning_color'\n",
    "def learning_follow_Callback(value):\n",
    "    global model\n",
    "    model = 'learning_follow'\n",
    "def follow_cancel_Callback(value):\n",
    "    global model\n",
    "    model = 'General'\n",
    "def exit_button_Callback(value):\n",
    "    global model\n",
    "    model = 'Exit'\n",
    "color_follow.on_click(color_follow_Callback)\n",
    "learning_color.on_click(learning_color_Callback)\n",
    "learning_follow.on_click(learning_follow_Callback)\n",
    "follow_cancel.on_click(follow_cancel_Callback)\n",
    "exit_button.on_click(exit_button_Callback)"
   ]
  },
  {
   "cell_type": "code",
   "execution_count": 6,
   "metadata": {},
   "outputs": [],
   "source": [
    "Arm.Arm_ask_speech(9)\n",
    "sleep(0.001)"
   ]
  },
  {
   "cell_type": "markdown",
   "metadata": {},
   "source": [
    "### 主程序"
   ]
  },
  {
   "cell_type": "code",
   "execution_count": 7,
   "metadata": {},
   "outputs": [],
   "source": [
    "def camera():\n",
    "    global HSV_learning,model\n",
    "    # 打开摄像头\n",
    "    capture = cv.VideoCapture(0)\n",
    "    capture.set(3, 640)\n",
    "    capture.set(4, 480)\n",
    "    capture.set(5, 30)  #设置帧率\n",
    "    # 当摄像头正常打开的情况下循环执行\n",
    "    while capture.isOpened():\n",
    "        try:\n",
    "            result = Arm.Arm_serial_speech_read(1)\n",
    "            sleep(0.01)\n",
    "            # 读取相机的每一帧\n",
    "            _, img = capture.read()\n",
    "            # 统一图像大小\n",
    "            img = cv.resize(img, (640, 480))\n",
    "            \n",
    "            if result == 37:\n",
    "                choose_color.value = 'red'\n",
    "                model = 'color_follow'\n",
    "              \n",
    "                # Speech_text(\"好的，开始追踪红色\",EncodingFormat_Type[\"GB2312\"])\n",
    "               \n",
    "            elif result == 38:\n",
    "                choose_color.value = 'yellow'\n",
    "                model = 'color_follow'\n",
    "               \n",
    "                # Speech_text(\"好的，开始追踪黄色\",EncodingFormat_Type[\"GB2312\"])\n",
    "               \n",
    "            elif result == 39:\n",
    "                choose_color.value = 'green'\n",
    "                model = 'color_follow'\n",
    "              \n",
    "                # Speech_text(\"好的，开始追踪绿色\",EncodingFormat_Type[\"GB2312\"])\n",
    "              \n",
    "            elif result == 40:\n",
    "                choose_color.value = 'blue'\n",
    "                model = 'color_follow'\n",
    "                \n",
    "                # Speech_text(\"好的，开始追踪蓝色\",EncodingFormat_Type[\"GB2312\"])\n",
    "                 \n",
    "            elif result == 41:\n",
    "                model = 'follow2'\n",
    "                result = 255\n",
    "                # (\"好的，开始追踪人脸\")\n",
    "                 \n",
    "            elif result == 42:\n",
    "                model = 'General'\n",
    "               \n",
    "                # Speech_text(\"好的，取消追踪\",EncodingFormat_Type[\"GB2312\"])\n",
    "               \n",
    "            \n",
    "            if model == 'color_follow':\n",
    "                img = follow.follow_function(img, color_hsv[choose_color.value])\n",
    "                # 添加文字\n",
    "                cv.putText(img, choose_color.value, (int(img.shape[0] / 2), 50), cv.FONT_HERSHEY_SIMPLEX, 2, color[random.randint(0, 254)], 2)\n",
    "            if model == 'follow2':\n",
    "                img = follow2.follow_function(img)\n",
    "            if model == 'learning_color':\n",
    "                img,HSV_learning = follow.get_hsv(img)\n",
    "            if model == 'learning_follow' :\n",
    "                if len(HSV_learning)!=0:\n",
    "                    print(HSV_learning)\n",
    "                    img = follow.learning_follow(img, HSV_learning)\n",
    "                    # 添加文字\n",
    "                    cv.putText(img,'LeColor', (240, 50), cv.FONT_HERSHEY_SIMPLEX, 1, color[random.randint(0, 254)], 1)\n",
    "            if model == 'Exit':\n",
    "                cv.destroyAllWindows()\n",
    "                capture.release()\n",
    "                break\n",
    "            imgbox.value = cv.imencode('.jpg', img)[1].tobytes()\n",
    "        except KeyboardInterrupt:capture.release()"
   ]
  },
  {
   "cell_type": "markdown",
   "metadata": {},
   "source": [
    "### 启动"
   ]
  },
  {
   "cell_type": "code",
   "execution_count": 8,
   "metadata": {},
   "outputs": [
    {
     "data": {
      "application/vnd.jupyter.widget-view+json": {
       "model_id": "ef8700914ddf4eae8756e1e97aebf43c",
       "version_major": 2,
       "version_minor": 0
      },
      "text/plain": [
       "HBox(children=(VBox(children=(Image(value=b'', format='jpg', height='480', layout=\"Layout(align_self='auto')\",…"
      ]
     },
     "metadata": {},
     "output_type": "display_data"
    },
    {
     "data": {
      "application/vnd.jupyter.widget-view+json": {
       "model_id": "0e359651f24942789264c4b8095195fc",
       "version_major": 2,
       "version_minor": 0
      },
      "text/plain": [
       "Output()"
      ]
     },
     "metadata": {},
     "output_type": "display_data"
    },
    {
     "name": "stderr",
     "output_type": "stream",
     "text": [
      "[ WARN:0] global ../modules/videoio/src/cap_gstreamer.cpp (935) open OpenCV | GStreamer warning: Cannot query video position: status=0, value=-1, duration=-1\n"
     ]
    },
    {
     "name": "stdout",
     "output_type": "stream",
     "text": [
      "-66.93182373046876\n",
      "-2.4345744739879263\n",
      "-84.41942249644887\n",
      "9.612696876210615\n",
      "89.5\n",
      "-48.36363636363637\n",
      "88.52272727272728\n",
      "-51.23760330578512\n",
      "48.638429752066116\n",
      "-38.97614575507138\n",
      "142.6944027047333\n",
      "-46.63419506864285\n",
      "162.35858206406667\n",
      "-58.53492682442209\n",
      "186.12350746036972\n",
      "-78.77590243858384\n",
      "193.71577340548816\n",
      "-85.36599113078034\n",
      "217.2696157641353\n",
      "-92.1469082846164\n",
      "242.36541961492142\n",
      "-89.94517348041967\n",
      "267.9650381468111\n",
      "-88.24501577094725\n",
      "290.0195489224374\n",
      "-96.81772870644977\n",
      "313.2063226293125\n",
      "-105.86979351876818\n",
      "337.3823929663012\n",
      "-113.98816304716077\n",
      "354.4438539060274\n",
      "-117.04437845883281\n",
      "349.5403503550934\n",
      "-116.64039804171209\n",
      "326.2309409413722\n",
      "-123.7400361856102\n",
      "311.4528128128521\n",
      "-131.81727601687365\n",
      "287.6548011648047\n",
      "-134.86975236517034\n",
      "259.1049819240732\n",
      "-132.7154320331973\n",
      "222.895907447643\n",
      "-132.36049382119975\n",
      "198.37690067705844\n",
      "-136.64640852920002\n",
      "183.19335460700535\n",
      "-138.9451280481091\n",
      "172.31303223700047\n",
      "-141.74501164073718\n",
      "155.77845747609095\n",
      "-144.9995465127943\n",
      "130.752587043281\n",
      "-146.40904968298136\n",
      "114.63659882211647\n",
      "-151.24173178936198\n",
      "97.73969080201061\n",
      "-152.5674301626693\n",
      "74.58997189109188\n",
      "-152.2561300147881\n",
      "54.303633808281084\n",
      "-154.9551027286171\n",
      "44.004875800752835\n",
      "-155.06410024805612\n",
      "34.15953416370481\n",
      "-156.07400911345968\n",
      "15.514503105791349\n",
      "-156.37036446486\n",
      "-6.044136081291689\n",
      "-159.2609422240782\n",
      "-35.39037600739015\n",
      "-164.9100856567344\n",
      "-57.058216000671834\n",
      "-167.8781896051577\n",
      "-19.09620145460653\n",
      "-159.0343808731962\n",
      "-5.395109223146048\n",
      "-149.25312553392692\n",
      "-11.763191747558732\n",
      "-123.38664777581155\n",
      "-30.77392652250534\n",
      "-102.96696797961926\n",
      "-36.95672059295503\n",
      "-89.61063345269267\n",
      "-42.74606550845046\n",
      "-93.76005758660844\n",
      "-41.31782413713186\n",
      "-106.31909614423714\n",
      "-6.119802194284716\n",
      "-147.66537237674885\n"
     ]
    }
   ],
   "source": [
    "display(controls_box,output)\n",
    "threading.Thread(target=camera, ).start()"
   ]
  },
  {
   "cell_type": "markdown",
   "metadata": {},
   "source": [
    "##### "
   ]
  },
  {
   "cell_type": "code",
   "execution_count": null,
   "metadata": {},
   "outputs": [],
   "source": []
  }
 ],
 "metadata": {
  "kernelspec": {
   "display_name": "Python 3 (ipykernel)",
   "language": "python",
   "name": "python3"
  },
  "language_info": {
   "codemirror_mode": {
    "name": "ipython",
    "version": 3
   },
   "file_extension": ".py",
   "mimetype": "text/x-python",
   "name": "python",
   "nbconvert_exporter": "python",
   "pygments_lexer": "ipython3",
   "version": "3.8.10"
  }
 },
 "nbformat": 4,
 "nbformat_minor": 4
}
