{
 "cells": [
  {
   "cell_type": "markdown",
   "metadata": {},
   "source": [
    "# 你放我抓玩法  Grab play"
   ]
  },
  {
   "cell_type": "markdown",
   "metadata": {},
   "source": [
    "### 导入头文件 Import head file"
   ]
  },
  {
   "cell_type": "code",
   "execution_count": 1,
   "metadata": {},
   "outputs": [],
   "source": [
    "#!/usr/bin/env python\n",
    "# coding: utf-8\n",
    "import cv2 as cv\n",
    "import threading\n",
    "from time import sleep\n",
    "from dofbot_config import *\n",
    "import ipywidgets as widgets\n",
    "from IPython.display import display\n",
    "from color_sorting import color_sorting"
   ]
  },
  {
   "cell_type": "markdown",
   "metadata": {},
   "source": [
    "### 初始化机械臂位置 Initialize DOFBOT position"
   ]
  },
  {
   "cell_type": "code",
   "execution_count": 2,
   "metadata": {},
   "outputs": [],
   "source": [
    "import Arm_Lib\n",
    "Arm = Arm_Lib.Arm_Device()\n",
    "joints_0 = [80, 130, 0, 0, 90, 30]\n",
    "Arm.Arm_serial_servo_write6_array(joints_0, 1000)"
   ]
  },
  {
   "cell_type": "markdown",
   "metadata": {},
   "source": [
    "### 创建实例,初始化参数 Create the instance and initialize the parameters"
   ]
  },
  {
   "cell_type": "code",
   "execution_count": 3,
   "metadata": {},
   "outputs": [
    {
     "name": "stdout",
     "output_type": "stream",
     "text": [
      "Read HSV_config Error!!!\n"
     ]
    }
   ],
   "source": [
    "sorting = color_sorting()\n",
    "model = 'General'\n",
    "color_hsv  = {\"red\"   : ((0, 43, 46), (10, 255, 255)),\n",
    "              \"green\" : ((35, 43, 46), (77, 255, 255)),\n",
    "              \"blue\"  : ((100, 43, 46), (124, 255, 255)),\n",
    "              \"yellow\": ((26, 43, 46), (34, 255, 255))}\n",
    "# HSV参数路径  HSV Parameter path\n",
    "HSV_path=\"/home/yahboom/dofbot_ws/src/dofbot_color_sorting/HSV_config.txt\"\n",
    "# 读取HSV配置文件,更新HSV值  Read HSV configuration file and update HSV value\n",
    "try: read_HSV(HSV_path,color_hsv)\n",
    "except Exception: print(\"Read HSV_config Error!!!\")"
   ]
  },
  {
   "cell_type": "markdown",
   "metadata": {},
   "source": [
    "### 创建控件 Creating widget"
   ]
  },
  {
   "cell_type": "code",
   "execution_count": null,
   "metadata": {},
   "outputs": [],
   "source": [
    "# 创建控件布局  Create widget layout\n",
    "button_layout  = widgets.Layout(width='200px', height='70px', align_self='center')\n",
    "# 输出打印  Output printing\n",
    "output = widgets.Output()\n",
    "# 退出按钮  exit button\n",
    "exit_button = widgets.Button(description='Exit', button_style='danger', layout=button_layout)\n",
    "# 图像控件  Image widget\n",
    "imgbox = widgets.Image(format='jpg', height=480, width=640, layout=widgets.Layout(align_self='center'))\n",
    "# 垂直放置  Vertical placement\n",
    "controls_box = widgets.VBox([imgbox, exit_button], layout=widgets.Layout(align_self='center'))\n",
    "# ['auto', 'flex-start', 'flex-end', 'center', 'baseline', 'stretch', 'inherit', 'initial', 'unset']"
   ]
  },
  {
   "cell_type": "markdown",
   "metadata": {},
   "source": [
    "### 控制按钮  Control button"
   ]
  },
  {
   "cell_type": "code",
   "execution_count": null,
   "metadata": {},
   "outputs": [],
   "source": [
    "def exit_button_Callback(value):\n",
    "    global model\n",
    "    model = 'Exit'\n",
    "#     with output: print(model)\n",
    "exit_button.on_click(exit_button_Callback)"
   ]
  },
  {
   "cell_type": "markdown",
   "metadata": {},
   "source": [
    "### 主程序 Main process"
   ]
  },
  {
   "cell_type": "code",
   "execution_count": null,
   "metadata": {},
   "outputs": [],
   "source": [
    "def camera():\n",
    "    # 打开摄像头 Open camera\n",
    "    capture = cv.VideoCapture(0)\n",
    "    while capture.isOpened():\n",
    "        try:\n",
    "            _, img = capture.read()\n",
    "            img = cv.resize(img, (640, 480))\n",
    "#             cv.line(img, (320, 0), (320, 480), color=(0, 255, 0), thickness=1)\n",
    "#             cv.line(img, (0, 240), (640, 240), color=(0, 255, 0), thickness=1)\n",
    "            # 获得运动信息  Get motion information\n",
    "            img = sorting.Sorting_grap(img, color_hsv)\n",
    "            if model == 'Exit':\n",
    "                cv.destroyAllWindows()\n",
    "                capture.release()\n",
    "                break\n",
    "            imgbox.value = cv.imencode('.jpg', img)[1].tobytes()\n",
    "        except KeyboardInterrupt:capture.release()"
   ]
  },
  {
   "cell_type": "markdown",
   "metadata": {},
   "source": [
    "### 启动  Start"
   ]
  },
  {
   "cell_type": "code",
   "execution_count": null,
   "metadata": {},
   "outputs": [],
   "source": [
    "display(controls_box,output)\n",
    "threading.Thread(target=camera, ).start()"
   ]
  },
  {
   "cell_type": "code",
   "execution_count": null,
   "metadata": {},
   "outputs": [],
   "source": []
  }
 ],
 "metadata": {
  "kernelspec": {
   "display_name": "Python 3 (ipykernel)",
   "language": "python",
   "name": "python3"
  },
  "language_info": {
   "codemirror_mode": {
    "name": "ipython",
    "version": 3
   },
   "file_extension": ".py",
   "mimetype": "text/x-python",
   "name": "python",
   "nbconvert_exporter": "python",
   "pygments_lexer": "ipython3",
   "version": "3.8.10"
  }
 },
 "nbformat": 4,
 "nbformat_minor": 4
}
